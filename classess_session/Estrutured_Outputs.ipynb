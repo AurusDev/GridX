{
 "cells": [
  {
   "cell_type": "markdown",
   "id": "8926869c-4dee-4e27-b910-21d8d7d1104b",
   "metadata": {},
   "source": [
    "## Importando Bibliotecas:"
   ]
  },
  {
   "cell_type": "code",
   "execution_count": 1,
   "id": "897e1769-1aa2-4b42-82f8-0c7266dfed79",
   "metadata": {},
   "outputs": [],
   "source": [
    "from dotenv import load_dotenv\n",
    "from groq import Groq\n",
    "import os \n",
    "load_dotenv()\n",
    "\n",
    "client = Groq(\n",
    "    api_key=os.environ.get(\"GROQ_API\"), # This is the default and can be omitted\n",
    ")"
   ]
  },
  {
   "cell_type": "markdown",
   "id": "bf55bce9-e0a3-49b7-8345-d27757b16d56",
   "metadata": {},
   "source": [
    "### Output Dataframe:"
   ]
  },
  {
   "cell_type": "code",
   "execution_count": 4,
   "id": "80c6feac-d6db-4e5a-9d22-441a27ba7fb2",
   "metadata": {},
   "outputs": [
    {
     "name": "stdout",
     "output_type": "stream",
     "text": [
      "Resposta: | Sigla do Tributo | Definição                                                                                                                                   | Valor do Tributo*                              | Regiões Aplicáveis |\n",
      "|------------------|---------------------------------------------------------------------------------------------------------------------------------------------|-----------------------------------------------|--------------------|\n",
      "| IR               | Imposto de Renda – tributo federal sobre a renda e proventos de qualquer pessoa física ou jurídica.                                         | PF: 7,5% a 27,5% (faixa progressiva) <br> PJ: 15% (até R$ 240 mil/ano) + adicional de 10% sobre o excedente | Federal |\n",
      "| IRPJ             | Imposto de Renda de Pessoa Jurídica – tributo federal incidente sobre o lucro real, presumido ou arbitrado das empresas.                 | 15% + adicional de 10% sobre o lucro > R$ 20 mil/mes | Federal |\n",
      "| CSLL             | Contribuição Social sobre o Lucro Líquido – tributo federal que incide sobre o lucro das pessoas jurídicas.                               | 9% (empresas em geral) <br> 12% (instituições financeiras) | Federal |\n",
      "| ICMS             | Imposto sobre Circulação de Mercadorias e Serviços – tributo estadual que incide nas operações de circulação de bens e prestação de serviços de transporte e comunicação. | 7% a 18% (varia por estado e produto) <br> 25% (combustíveis) | Estadual |\n",
      "| IPI              | Imposto sobre Produtos Industrializados – tributo federal que incide sobre a produção e importação de produtos industrializados.          | 0% a 15% (dependendo da NCM)                | Federal |\n",
      "| ISS              | Imposto Sobre Serviços – tributo municipal que incide sobre a prestação de serviços listados na Lei Complementar 116/2003.               | 2% a 5% (conforme o serviço e o município)   | Municipal |\n",
      "| PIS              | Programa de Integração Social – contribuição federal que incide sobre o faturamento das empresas.                                         | 0,65% (cumulativo) <br> 1,65% (não cumulativo) | Federal |\n",
      "| COFINS           | Contribuição para o Financiamento da Seguridade Social – tributo federal que incide sobre o faturamento das empresas.                    | 3% (cumulativo) <br> 7,6% (não cumulativo)   | Federal |\n",
      "| INSS             | Instituto Nacional do Seguro Social – contribuição previdenciária patronal e dos trabalhadores.                                         | 20% (empresa) + 0,5% a 5,8% (terceiros)       | Federal |\n",
      "| IOF              | Imposto sobre Operações Financeiras – tributo federal que incide sobre operações de crédito, câmbio, seguros e valores mobiliários.      | 0,38% a 6,38% (varia conforme a operação)   | Federal |\n",
      "| IPTU             | Imposto Predial e Territorial Urbano – tributo municipal sobre a propriedade imobiliária urbana.                                          | 0,3% a 1,5% do valor venal do imóvel          | Municipal |\n",
      "| IPVA             | Imposto sobre a Propriedade de Veículos Automotores – tributo estadual que incide sobre a propriedade de veículos.                        | 1% a 4% do valor venal do veículo             | Estadual |\n",
      "\n",
      "\\* Os valores são indicativos e podem variar conforme legislação vigente, faixa de receita, tipo de bem ou serviço e políticas de cada ente federativo.\n",
      "\n"
     ]
    }
   ],
   "source": [
    "system_prompt = \"\"\"\n",
    "Você é um agente de IA de contabilidade especializado em tributação. \n",
    "Sempre responda no formato de dataframe: \n",
    "\n",
    "| Sigla do Tributo | Definição | Valor do Tributo | Regiões Aplicáveis|\n",
    "|------------------|-----------|------------------|-------------------|\n",
    "\"\"\"\n",
    "user_prompt = \"Crie uma tabela com as siglas dos tributos contábeis\"\n",
    "\n",
    "response = client.chat.completions.create(\n",
    "    model=\"openai/gpt-oss-120b\",\n",
    "    messages=[\n",
    "        {\n",
    "            \"role\":\"system\",\n",
    "            \"content\":system_prompt\n",
    "        },\n",
    "        {\n",
    "            \"role\":\"user\",\n",
    "            \"content\":user_prompt\n",
    "        }\n",
    "    ],\n",
    ")\n",
    "print(f'Resposta: {response.choices[0].message.content}\\n')"
   ]
  },
  {
   "cell_type": "markdown",
   "id": "9c61c7e3-6eb2-402b-bb9a-e4330ddfb11e",
   "metadata": {},
   "source": [
    "### Output By Simple List"
   ]
  },
  {
   "cell_type": "code",
   "execution_count": 11,
   "id": "9b942f7c-78a0-44b2-82b9-ce090221eb9d",
   "metadata": {},
   "outputs": [
    {
     "name": "stdout",
     "output_type": "stream",
     "text": [
      "Resposta **5 filmes premiados no Oscar que marcaram a história do cinema**\n",
      "\n",
      "| Filme | Ano (Cerimônia) | Oscar(s) Principal(is) | Por que é histórico |\n",
      "|-------|----------------|------------------------|----------------------|\n",
      "| **Cidadão Kane** (Citizen Kane) | 1942 (14ª) | Melhor Roteiro Original | Revolucionou a narrativa e a linguagem visual (uso de profundidade de campo, flashbacks não‑lineares). |\n",
      "| **...E o Vento Levou** (Gone with the Wind) | 1940 (12ª) | Melhor Filme, Direção, Atriz, etc. | Primeiro grande épico em Technicolor; quebrou recordes de bilheteria e consolidou o formato de “blockbuster”. |\n",
      "| **Casablanca** | 1944 (16ª) | Melhor Filme, Direção, Roteiro Adaptado, Música | Definiu o romance de guerra; diálogos icônicos e trilha sonora inesquecível. |\n",
      "| **O Poderoso Chefão** (The Godfather) | 1973 (45ª) | Melhor Filme, Ator (Marlon Brando) | Redefiniu o gênero de máfia, introduzindo profundidade psicológica e estética sombria. |\n",
      "| **Titanic** | 1998 (70ª) | Melhor Filme, Direção, Fotografia, etc. (11 prêmios) | Primeiro filme a ultrapassar a marca de US$ 1 bilhão; combinou efeitos especiais inovadores com drama épico. |\n",
      "\n",
      "Esses filmes não apenas conquistaram os prêmios mais cobiçados da Academia, mas também influenciaram gerações de cineastas e alteraram a forma como o cinema é produzido, narrado e apreciado.\n",
      "\n"
     ]
    }
   ],
   "source": [
    "system_prompt_simple = \"Você é um crítico de cinema que apresenta informações em listas claras.\"\n",
    "user_prompt_simple = \"Liste 5 filmes premiados no oscar que marcaram a história do cinema.\"\n",
    "\n",
    "response_simple = client.chat.completions.create(\n",
    "    model=\"openai/gpt-oss-120b\",\n",
    "    messages=[\n",
    "        {\n",
    "            \"role\":\"system\",\n",
    "            \"content\":system_prompt_simple\n",
    "        },\n",
    "        {\n",
    "            \"role\":\"user\",\n",
    "            \"content\":user_prompt_simple\n",
    "        }\n",
    "    ],\n",
    "    temperature=0.6,\n",
    ")\n",
    "print(f'Resposta {response_simple.choices[0].message.content}\\n')"
   ]
  },
  {
   "cell_type": "markdown",
   "id": "6906f83c-defd-48b2-b896-d18f2a271e5b",
   "metadata": {},
   "source": [
    "### Number List"
   ]
  },
  {
   "cell_type": "code",
   "execution_count": 14,
   "id": "535658fb-7a07-42b5-a923-8af358b817be",
   "metadata": {},
   "outputs": [
    {
     "name": "stdout",
     "output_type": "stream",
     "text": [
      "Resposta 1. **Estudos de Caso Práticos**: Análise detalhada de situações reais de contabilidade para aplicar teorias e normas contábeis.  \n",
      "2. **Simulações de Software Contábil**: Treinamento hands‑on em sistemas ERP e ferramentas de contabilidade para melhorar a proficiência técnica.  \n",
      "3. **Workshops de Normas e Regulamentações**: Sessões interativas focadas na atualização e interpretação de IFRS, CPC e legislações fiscais.  \n",
      "4\n",
      "\n"
     ]
    }
   ],
   "source": [
    "system_prompt_numerada = \"\"\"\n",
    "Você cria listas numeradas no formato:\n",
    "1. [Título]: [Descrição Curta]\n",
    "\"\"\"\n",
    "user_prompt_numerada = \"Liste 4 estratégias de treinamento usadas por contadores.\"\n",
    "\n",
    "response_numerada = client.chat.completions.create(\n",
    "    model=\"openai/gpt-oss-120b\",\n",
    "    messages=[\n",
    "        {\n",
    "            \"role\":\"system\",\n",
    "            \"content\":system_prompt_numerada\n",
    "        },\n",
    "        {\n",
    "            \"role\":\"user\",\n",
    "            \"content\":user_prompt_numerada\n",
    "        }\n",
    "    ],\n",
    "    max_completion_tokens=200,\n",
    "    temperature=0.7\n",
    ")\n",
    "print(f'Resposta {response_numerada.choices[0].message.content}\\n')"
   ]
  },
  {
   "cell_type": "markdown",
   "id": "d9ea0d08-df05-428a-934c-0a961851f69e",
   "metadata": {},
   "source": [
    "### Hierarquic List"
   ]
  },
  {
   "cell_type": "code",
   "execution_count": 16,
   "id": "4c405f78-22d6-47b0-a738-da58676b6b92",
   "metadata": {},
   "outputs": [
    {
     "name": "stdout",
     "output_type": "stream",
     "text": [
      "Resposta - Física  \n",
      "    - Mecânica Clássica  \n",
      "    - Termodinâmica  \n",
      "    - Eletromagnetismo  \n",
      "    - Física Quântica  \n",
      "    - Relatividade  \n",
      "    - Física de Partículas  \n",
      "    - Física Nuclear  \n",
      "    - Física de Materiais  \n",
      "\n",
      "- Biologia  \n",
      "    - Biologia Molecular  \n",
      "    - Genética  \n",
      "    - Ecologia  \n",
      "    - Zoologia  \n",
      "    - Botânica  \n",
      "    - Microbiologia  \n",
      "    - Fisiologia  \n",
      "    - Evolução  \n",
      "\n",
      "- Química  \n",
      "    - Química Orgânica  \n",
      "    - Química Inorgânica  \n",
      "    - Química Analítica  \n",
      "    - Química Física  \n",
      "    - Bioquímica  \n",
      "    - Química Ambiental  \n",
      "    - Química Teórica  \n",
      "    - Química de Materiais\n",
      "\n"
     ]
    }
   ],
   "source": [
    "system_prompt_hierarquic = \"\"\"\n",
    "Você organiza informações em listas no formato: \n",
    "- Categoria principal\n",
    "    - Subcategoria 1\n",
    "    - Subcategoria 2\n",
    "\"\"\"\n",
    "user_prompt_hierarquic = \"Organize áreas da ciência em categorias: Física, Biologia, Química.\"\n",
    "\n",
    "response_hierarquic_list = client.chat.completions.create(\n",
    "    model=\"openai/gpt-oss-120b\",\n",
    "    messages=[\n",
    "        {\n",
    "            \"role\":\"system\",\n",
    "            \"content\":system_prompt_hierarquic\n",
    "        },\n",
    "        {\n",
    "            \"role\":\"user\",\n",
    "            \"content\":user_prompt_hierarquic\n",
    "        }\n",
    "    ],\n",
    "    temperature=0.6\n",
    ")\n",
    "print(f'Resposta {response_hierarquic_list.choices[0].message.content}\\n')"
   ]
  },
  {
   "cell_type": "markdown",
   "id": "922d0ce8-c743-458b-aa8b-0e54471ab4e0",
   "metadata": {},
   "source": [
    "### Parágrafos estruturados"
   ]
  },
  {
   "cell_type": "code",
   "execution_count": 17,
   "id": "ec38f5d7-ae3a-44b5-828b-24a996b175c1",
   "metadata": {},
   "outputs": [
    {
     "name": "stdout",
     "output_type": "stream",
     "text": [
      "Resposta: **INTRODUÇÃO:**  \n",
      "A inteligência artificial (IA) tem se tornado um dos principais motores de transformação nas sociedades contemporâneas, impactando quase todos os setores econômicos e sociais. Seu crescimento acelerado reflete a necessidade de lidar com volumes massivos de dados e de automatizar processos complexos.\n",
      "\n",
      "**DESENVOLVIMENTO:**  \n",
      "1. **Aumento da produtividade e eficiência:** Algoritmos de aprendizado de máquina otimizam cadeias de produção, reduzem desperdícios e permitem a tomada de decisão em tempo real, resultando em custos menores e maior competitividade.  \n",
      "2. **Inovação em produtos e serviços:** A IA possibilita o desenvolvimento de soluções personalizadas, como assistentes virtuais, recomendações de conteúdo, diagnósticos médicos assistidos por computador e veículos autônomos, criando novos mercados e modelos de negócio.  \n",
      "3. **Análise de grandes volumes de dados (Big Data):** Técnicas de mineração de dados e processamento de linguagem natural extraem insights valiosos de informações que seriam impossíveis de analisar manualmente, apoiando estratégias de marketing, previsão de demanda e gestão de riscos.  \n",
      "4. **Impacto social e qualidade de vida:** Sistemas de IA melhoram a acessibilidade (ex.: tradutores automáticos, leitores de tela), auxiliam na educação personalizada e contribuem para a saúde pública ao detectar surtos epidemiológicos ou otimizar tratamentos.  \n",
      "5. **Desafios éticos e regulatórios:** O uso disseminado da IA levanta questões sobre privacidade, viés algorítmico, responsabilidade e impacto no mercado de trabalho, exigindo marcos regulatórios claros e práticas de desenvolvimento responsáveis.  \n",
      "6. **Integração com outras tecnologias emergentes:** IA, internet das coisas (IoT), computação quântica e blockchain se complementam, criando ecossistemas inteligentes que automatizam cidades, fábricas e cadeias logísticas de forma interconectada.  \n",
      "\n",
      "**CONCLUSÃO:**  \n",
      "A IA é crucial na atualidade porque potencializa a eficiência, impulsiona a inovação e oferece soluções para desafios complexos, ao mesmo tempo em que demanda atenção ética e regulatória para garantir que seus benefícios sejam distribuídos de forma justa e sustentável.\n",
      "\n"
     ]
    }
   ],
   "source": [
    "system_prompt = \"\"\"\n",
    "INTRODUÇÃO: [1-2 frases de contexto]\n",
    "DESENVOLVIMENTO: [Explicação detalhada]\n",
    "CONCLUSÂO: [Síntese Final] \n",
    "\"\"\"\n",
    "user_prompt = \"Explique a importância da IA na atualidade\"\n",
    "\n",
    "response_client = client.chat.completions.create(\n",
    "    model = \"openai/gpt-oss-120b\",\n",
    "    messages = [\n",
    "        {\n",
    "            \"role\":\"system\",\n",
    "            \"content\":system_prompt\n",
    "        },\n",
    "        {\n",
    "            \"role\":\"user\",\n",
    "            \"content\":user_prompt\n",
    "        }\n",
    "    ],\n",
    "    temperature = 0.7\n",
    ")\n",
    "print(f'Resposta: {response_client.choices[0].message.content}\\n')"
   ]
  },
  {
   "cell_type": "markdown",
   "id": "bd2a6e4d-8f77-4c68-b1bf-f05dfa547538",
   "metadata": {},
   "source": [
    "### Formato Customizado "
   ]
  },
  {
   "cell_type": "code",
   "execution_count": 19,
   "id": "9dfb9e57-3576-493e-885a-3c4e5ba1dbe4",
   "metadata": {},
   "outputs": [
    {
     "name": "stdout",
     "output_type": "stream",
     "text": [
      "Resposta: MISSÃO: Voyager 1  \n",
      "ANO: 1977  \n",
      "Objetivo: Realizar o primeiro sobrevoo próximo de Júpiter e Saturno e, em seguida, viajar rumo ao espaço interestelar.  \n",
      "Resultado:  \n",
      "- Primeiras imagens detalhadas de Júpiter, suas luas (incluindo vulcões ativos em Io) e de Saturno e seus anéis.  \n",
      "- Descoberta de complexas magnetosferas e da intensa radiação nos ambientes joviano e saturniano.  \n",
      "- Primeira sonda a cruzar a heliopausa (2012), medindo diretamente o meio interestelar.  \n",
      "- Dados sobre a composição e densidade do vento solar e das partículas carregadas além do Sistema Solar.\n",
      "\n"
     ]
    }
   ],
   "source": [
    "system_prompt_card = \"\"\"\n",
    "Você cria cards informativos sobre missões espaciais no formato:\n",
    "\n",
    "MISSÃO: [Nome]\n",
    "ANO: [Ano]\n",
    "Objetivo: [Resumo em 1 frase]\n",
    "Resultado: [Principais descobertas]\n",
    "\n",
    "\"\"\"\n",
    "user_prompt_card = \"Crie um card sobre a missão Voyager 1.\"\n",
    "\n",
    "response_card = client.chat.completions.create(\n",
    "    model=\"openai/gpt-oss-120b\",\n",
    "    messages=[\n",
    "        {\n",
    "            \"role\":\"system\",\n",
    "            \"content\":system_prompt_card\n",
    "        },\n",
    "        {\n",
    "            \"role\":\"user\",\n",
    "            \"content\":user_prompt_card\n",
    "        }\n",
    "    ],\n",
    "    temperature=0.7\n",
    ")\n",
    "print(f'Resposta: {response_card.choices[0].message.content}\\n')"
   ]
  },
  {
   "cell_type": "markdown",
   "id": "5bb4b946-d310-49d4-ae75-f1e0d835b511",
   "metadata": {},
   "source": [
    "### Formato Checklist"
   ]
  },
  {
   "cell_type": "code",
   "execution_count": 21,
   "id": "05787d47-e146-4453-915e-f8251cc86f53",
   "metadata": {},
   "outputs": [
    {
     "name": "stdout",
     "output_type": "stream",
     "text": [
      "Resposta: ✅ **Planejamento Estratégico**  \n",
      "✅ Definir objetivo e tema do festival  \n",
      "✅ Escolher data e horário (considerar clima e calendário de eventos)  \n",
      "✅ Estabelecer orçamento total e fontes de financiamento  \n",
      "✅ Elaborar cronograma geral com marcos importantes  \n",
      "\n",
      "✅ **Local e Infraestrutura**  \n",
      "✅ Selecionar e reservar o espaço ao ar livre (parque, campo, praia, etc.)  \n",
      "✅ Verificar permissões e licenças municipais, ambientais e de uso do solo  \n",
      "✅ Contratar empresa de montagem de palcos e estruturas (palco principal, secundários, áreas VIP)  \n",
      "✅ Planejar áreas de apoio: camarins, backstage, salas de descanso, banheiros químicos, pontos de hidratação  \n",
      "✅ Definir layout do festival (palco, áreas de público, setores de alimentação, primeiros socorros, estacionamento, entrada/saída)  \n",
      "✅ Contratar equipe de limpeza e coleta de resíduos  \n",
      "\n",
      "✅ **Programação Musical**  \n",
      "✅ Selecionar artistas/bandas de acordo com o público‑alvo e o tema  \n",
      "✅ Negociar contratos, cachês, rider técnico e rider de hospitalidade  \n",
      "✅ Montar a grade de horários (set times, intervalos, troca de palco)  \n",
      "✅ Reservar equipe de som, iluminação e produção técnica (engenheiros de som, operadores de luz)  \n",
      "\n",
      "✅ **Logística e Operações**  \n",
      "✅ Contratar empresa de segurança privada e coordenar com a polícia local  \n",
      "✅ Planejar plano de evacuação e rotas de emergência  \n",
      "✅\n",
      "\n"
     ]
    }
   ],
   "source": [
    "system_prompt_checklist = \"\"\"\n",
    "Você cria checklists no formato:\n",
    "\n",
    "✅ [Tarefa 1]\n",
    "✅ [Tarefa 2] \n",
    "✅ [Tarefa 3] \n",
    "\"\"\"\n",
    "user_prompt_checklist = \"Monte um checklist para organizar um festival de música ao ar livre.\"\n",
    "\n",
    "response_checklist = client.chat.completions.create(\n",
    "    model=\"openai/gpt-oss-120b\",\n",
    "    messages=[\n",
    "        {\n",
    "            \"role\":\"system\",\n",
    "            \"content\":system_prompt_checklist\n",
    "        },\n",
    "        {\n",
    "            \"role\":\"user\",\n",
    "            \"content\":user_prompt_checklist\n",
    "        }\n",
    "    ],\n",
    "    max_completion_tokens = 400,\n",
    "    temperature = 0.6\n",
    ")\n",
    "print(f'Resposta: {response_checklist.choices[0].message.content}\\n')"
   ]
  },
  {
   "cell_type": "markdown",
   "id": "661dfe61-c7eb-40be-9b21-eade3c319a1e",
   "metadata": {},
   "source": [
    "### Unificate: \n"
   ]
  },
  {
   "cell_type": "code",
   "execution_count": 24,
   "id": "a02c8218-96a5-4301-82ff-be8e335b7463",
   "metadata": {},
   "outputs": [
    {
     "name": "stdout",
     "output_type": "stream",
     "text": [
      "Response: **RESUMO**  \n",
      "A corrida para Marte está acelerando investimentos em tecnologia espacial, criando novos mercados de mineração, turismo e infraestrutura que podem gerar trilhões de dólares em receitas globais. Ao mesmo tempo, os custos iniciais e os riscos regulatórios exigem políticas coordenadas para maximizar benefícios econômicos e mitigar desigualdades entre nações e setores.\n",
      "\n",
      "**DESTAQUES**  \n",
      "1. **Cadeia de suprimentos espacial** – O desenvolvimento de foguetes reutilizáveis, habitats e sistemas de propulsão está impulsionando indústrias de materiais avançados, IA e manufatura aditiva, com efeito multiplicador em setores terrestres.  \n",
      "2. **Mineração extraterrestre** – Estudos preliminares indicam que recursos como água, metais raros e voláteis em Marte podem reduzir a dependência de minerais críticos da Terra, diminuindo vulnerabilidades de abastecimento.  \n",
      "3. **Turismo e colonização** – Propostas de missões tripuladas comerciais e habitats permanentes abrem oportunidades de turismo de alta renda, geração de empregos especializados e novos modelos de propriedade e governança interplanetária.\n",
      "\n",
      "**RECOMENDAÇÕES**  \n",
      "- **Curto prazo:** Criar um consórcio público‑privado internacional para padronizar normas de segurança, licenciamento de recursos e compartilhamento de dados de missões marcianas.  \n",
      "- **Médio Prazo:** Incentivar a pesquisa‑e‑desenvolvimento em tecnologias de extração e processamento de recursos marcianos por meio de subsídios, créditos fiscais e parcerias universitárias, garantindo a transferência de know‑how para a indústria terrestre.  \n",
      "- **Longo Prazo:** Estabelecer um marco regulatório global para a propriedade e comércio de recursos extraterrestres, alinhado a acordos de sustentabilidade, e promover a criação de um “Mercado Interplanetário” que integre ativos marcianos ao sistema financeiro internacional.\n",
      "\n"
     ]
    }
   ],
   "source": [
    "system_prompt = \"\"\"\n",
    "Você cria relatórios executivos no formato:\n",
    "\n",
    "RESUMO\n",
    "[Resumo em 2-3 frases]\n",
    "\n",
    "DESTAQUES\n",
    "1. [Ponto-chave 1]\n",
    "2. [Ponto-chave 2]\n",
    "3. [Ponto-chave 3]\n",
    "\n",
    "RECOMENDAÇÕES\n",
    "- Curto prazo: [Ação imediata]\n",
    "- Médio Prazo: [Ação estratégica]\n",
    "- Longo Prazo: [Visão futura]\n",
    "\"\"\"\n",
    "\n",
    "user_prompt = \"\"\"\n",
    "Crie um relatório executivo sobre os impactos de Marte para a economia global\n",
    "\"\"\"\n",
    "\n",
    "response = client.chat.completions.create(\n",
    "    model=\"openai/gpt-oss-120b\",\n",
    "    messages=[\n",
    "        {\n",
    "            \"role\":\"system\",\n",
    "            \"content\":system_prompt\n",
    "        },\n",
    "        {\n",
    "            \"role\":\"user\",\n",
    "            \"content\":user_prompt\n",
    "        }\n",
    "    ],\n",
    "    temperature = 0.6\n",
    ")\n",
    "print(f'Response: {response.choices[0].message.content}\\n')"
   ]
  },
  {
   "cell_type": "code",
   "execution_count": null,
   "id": "30efb359-14ce-488b-9ce3-2618d1445a17",
   "metadata": {},
   "outputs": [],
   "source": []
  }
 ],
 "metadata": {
  "kernelspec": {
   "display_name": "Python 3 (ipykernel)",
   "language": "python",
   "name": "python3"
  },
  "language_info": {
   "codemirror_mode": {
    "name": "ipython",
    "version": 3
   },
   "file_extension": ".py",
   "mimetype": "text/x-python",
   "name": "python",
   "nbconvert_exporter": "python",
   "pygments_lexer": "ipython3",
   "version": "3.13.7"
  }
 },
 "nbformat": 4,
 "nbformat_minor": 5
}
